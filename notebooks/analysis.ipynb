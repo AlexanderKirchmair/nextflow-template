{
 "cells": [
  {
   "cell_type": "code",
   "execution_count": 2,
   "id": "b2c591f7",
   "metadata": {
    "editable": true,
    "slideshow": {
     "slide_type": ""
    },
    "tags": [],
    "vscode": {
     "languageId": "plaintext"
    }
   },
   "outputs": [],
   "source": [
    "import os\n",
    "import sys"
   ]
  },
  {
   "cell_type": "code",
   "execution_count": 12,
   "id": "c42797ed-0619-418d-9222-009cdc2e04f3",
   "metadata": {
    "editable": true,
    "slideshow": {
     "slide_type": ""
    },
    "tags": [
     "parameters"
    ]
   },
   "outputs": [],
   "source": [
    "# papermill parameters (add 'parameters' tag)\n",
    "prjdir = os.path.abspath(os.path.join(os.getcwd(), '..'))\n",
    "resultsdir = os.path.join(prjdir, 'results')\n",
    "infile = os.path.join(resultsdir, 'm1_output.txt')"
   ]
  },
  {
   "cell_type": "code",
   "execution_count": null,
   "id": "e060d1d2-dc8a-4926-8c77-6c86175d8107",
   "metadata": {
    "editable": true,
    "slideshow": {
     "slide_type": ""
    },
    "tags": []
   },
   "outputs": [],
   "source": [
    "sys.path.append(prjdir)\n",
    "from bin.py import functions as fct"
   ]
  },
  {
   "cell_type": "code",
   "execution_count": null,
   "id": "3b6fde36-5728-4b1d-8a97-853f51c029be",
   "metadata": {
    "editable": true,
    "slideshow": {
     "slide_type": ""
    },
    "tags": []
   },
   "outputs": [],
   "source": []
  },
  {
   "cell_type": "code",
   "execution_count": 8,
   "id": "822480ea-5470-4074-ba59-897f00d1bc53",
   "metadata": {
    "editable": true,
    "slideshow": {
     "slide_type": ""
    },
    "tags": []
   },
   "outputs": [],
   "source": [
    "with open(infile, 'r') as f:\n",
    "    text = f.read()"
   ]
  },
  {
   "cell_type": "code",
   "execution_count": 14,
   "id": "3ff95151",
   "metadata": {
    "vscode": {
     "languageId": "plaintext"
    }
   },
   "outputs": [],
   "source": [
    "print(text + text,  file=open(os.path.join(resultsdir, 'm2_output.txt'), 'w'))"
   ]
  }
 ],
 "metadata": {
  "kernelspec": {
   "display_name": "crca-spatial",
   "language": "python",
   "name": "crca-spatial"
  },
  "language_info": {
   "codemirror_mode": {
    "name": "ipython",
    "version": 3
   },
   "file_extension": ".py",
   "mimetype": "text/x-python",
   "name": "python",
   "nbconvert_exporter": "python",
   "pygments_lexer": "ipython3",
   "version": "3.11.9"
  }
 },
 "nbformat": 4,
 "nbformat_minor": 5
}
